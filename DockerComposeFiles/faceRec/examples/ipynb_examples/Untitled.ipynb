{
 "cells": [
  {
   "cell_type": "code",
   "execution_count": 1,
   "id": "c9e16763",
   "metadata": {},
   "outputs": [
    {
     "name": "stdout",
     "output_type": "stream",
     "text": [
      "The test image has a distance of 0.35 from known image #0\n",
      "- With a normal cutoff of 0.6, would the test image match the known image? True\n",
      "- With a very strict cutoff of 0.5, would the test image match the known image? True\n",
      "\n",
      "The test image has a distance of 0.82 from known image #1\n",
      "- With a normal cutoff of 0.6, would the test image match the known image? False\n",
      "- With a very strict cutoff of 0.5, would the test image match the known image? False\n",
      "\n"
     ]
    }
   ],
   "source": [
    "import face_recognition\n",
    "\n",
    "# Often instead of just checking if two faces match or not (True or False), it's helpful to see how similar they are.\n",
    "# You can do that by using the face_distance function.\n",
    "\n",
    "# The model was trained in a way that faces with a distance of 0.6 or less should be a match. But if you want to\n",
    "# be more strict, you can look for a smaller face distance. For example, using a 0.55 cutoff would reduce false\n",
    "# positive matches at the risk of more false negatives.\n",
    "\n",
    "# Note: This isn't exactly the same as a \"percent match\". The scale isn't linear. But you can assume that images with a\n",
    "# smaller distance are more similar to each other than ones with a larger distance.\n",
    "\n",
    "# Load some images to compare against\n",
    "known_obama_image = face_recognition.load_image_file(\"../obama.jpg\")\n",
    "known_biden_image = face_recognition.load_image_file(\"../biden.jpg\")\n",
    "\n",
    "# Get the face encodings for the known images\n",
    "obama_face_encoding = face_recognition.face_encodings(known_obama_image)[0]\n",
    "biden_face_encoding = face_recognition.face_encodings(known_biden_image)[0]\n",
    "\n",
    "known_encodings = [\n",
    "    obama_face_encoding,\n",
    "    biden_face_encoding\n",
    "]\n",
    "\n",
    "# Load a test image and get encondings for it\n",
    "image_to_test = face_recognition.load_image_file(\"../obama2.jpg\")\n",
    "image_to_test_encoding = face_recognition.face_encodings(image_to_test)[0]\n",
    "\n",
    "# See how far apart the test image is from the known faces\n",
    "face_distances = face_recognition.face_distance(known_encodings, image_to_test_encoding)\n",
    "\n",
    "for i, face_distance in enumerate(face_distances):\n",
    "    print(\"The test image has a distance of {:.2} from known image #{}\".format(face_distance, i))\n",
    "    print(\"- With a normal cutoff of 0.6, would the test image match the known image? {}\".format(face_distance < 0.6))\n",
    "    print(\"- With a very strict cutoff of 0.5, would the test image match the known image? {}\".format(face_distance < 0.5))\n",
    "    print()\n"
   ]
  },
  {
   "cell_type": "code",
   "execution_count": null,
   "id": "a3fed8d4",
   "metadata": {},
   "outputs": [],
   "source": []
  }
 ],
 "metadata": {
  "kernelspec": {
   "display_name": "Python 3",
   "language": "python",
   "name": "python3"
  },
  "language_info": {
   "codemirror_mode": {
    "name": "ipython",
    "version": 3
   },
   "file_extension": ".py",
   "mimetype": "text/x-python",
   "name": "python",
   "nbconvert_exporter": "python",
   "pygments_lexer": "ipython3",
   "version": "3.6.14"
  }
 },
 "nbformat": 4,
 "nbformat_minor": 5
}
